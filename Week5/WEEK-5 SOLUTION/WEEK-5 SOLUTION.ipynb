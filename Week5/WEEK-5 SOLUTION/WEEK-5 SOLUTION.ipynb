{
 "cells": [
  {
   "cell_type": "code",
   "execution_count": 1,
   "id": "69f6b408",
   "metadata": {},
   "outputs": [],
   "source": [
    "import csv"
   ]
  },
  {
   "cell_type": "code",
   "execution_count": 2,
   "id": "86b4407a",
   "metadata": {},
   "outputs": [],
   "source": [
    "header=['sid','name','city','contect']"
   ]
  },
  {
   "cell_type": "code",
   "execution_count": 4,
   "id": "a08caa9f",
   "metadata": {},
   "outputs": [],
   "source": [
    "records=[[1,'om','surat',9724460550],\n",
    "        [2,'sai','bardoli',997927500],\n",
    "        [3,'ram','vyara',9054051480],\n",
    "        [4,'radha','mandavi',9574051480],\n",
    "        [5,'kishan','asta',9563148756]]\n",
    "l=[]"
   ]
  },
  {
   "cell_type": "code",
   "execution_count": 5,
   "id": "18c66054",
   "metadata": {},
   "outputs": [
    {
     "name": "stdout",
     "output_type": "stream",
     "text": [
      "enter student id:6\n",
      "enter student name:sunil\n",
      "enter student city:kamrej\n",
      "enter student contect:9762148537\n",
      "enter student id:7\n",
      "enter student name:parth\n",
      "enter student city:mahuva\n",
      "enter student contect:4963178562\n",
      "enter student id:8\n",
      "enter student name:dev\n",
      "enter student city:vyara\n",
      "enter student contect:9057684197\n",
      "enter student id:9\n",
      "enter student name:bhavik\n",
      "enter student city:mandavi\n",
      "enter student contect:9564873186\n",
      "enter student id:10\n",
      "enter student name:vivek\n",
      "enter student city:digas\n",
      "enter student contect:9476238497\n"
     ]
    }
   ],
   "source": [
    "for i in range(5):\n",
    "    sid=int(input(\"enter student id:\"))\n",
    "    name=input(\"enter student name:\")\n",
    "    city=input(\"enter student city:\")\n",
    "    contect=int(input(\"enter student contect:\"))\n",
    "    s=[sid,name,city,contect]\n",
    "    l.append(s)"
   ]
  },
  {
   "cell_type": "code",
   "execution_count": 7,
   "id": "9b6dbeee",
   "metadata": {},
   "outputs": [],
   "source": [
    "with open('student.csv','w',newline='') as f:\n",
    "    file=csv.writer(f)\n",
    "    file.writerow(header)\n",
    "    file.writerows(records)\n",
    "    file.writerows(l)"
   ]
  },
  {
   "cell_type": "code",
   "execution_count": 8,
   "id": "d760885b",
   "metadata": {},
   "outputs": [
    {
     "name": "stdout",
     "output_type": "stream",
     "text": [
      "['sid', 'name', 'city', 'contect']\n",
      "['1', 'om', 'surat', '9724460550']\n",
      "['2', 'sai', 'bardoli', '997927500']\n",
      "['3', 'ram', 'vyara', '9054051480']\n",
      "['4', 'radha', 'mandavi', '9574051480']\n",
      "['5', 'kishan', 'asta', '9563148756']\n",
      "['6', 'sunil', 'kamrej', '9762148537']\n",
      "['7', 'parth', 'mahuva', '4963178562']\n",
      "['8', 'dev', 'vyara', '9057684197']\n",
      "['9', 'bhavik', 'mandavi', '9564873186']\n",
      "['10', 'vivek', 'digas', '9476238497']\n"
     ]
    }
   ],
   "source": [
    "with open('student.csv','r',newline='') as read:\n",
    "    record=csv.reader(read)\n",
    "    for records in record:\n",
    "        print(records)"
   ]
  },
  {
   "cell_type": "code",
   "execution_count": null,
   "id": "4bab54ac",
   "metadata": {},
   "outputs": [],
   "source": []
  }
 ],
 "metadata": {
  "kernelspec": {
   "display_name": "Python 3 (ipykernel)",
   "language": "python",
   "name": "python3"
  },
  "language_info": {
   "codemirror_mode": {
    "name": "ipython",
    "version": 3
   },
   "file_extension": ".py",
   "mimetype": "text/x-python",
   "name": "python",
   "nbconvert_exporter": "python",
   "pygments_lexer": "ipython3",
   "version": "3.11.4"
  }
 },
 "nbformat": 4,
 "nbformat_minor": 5
}
